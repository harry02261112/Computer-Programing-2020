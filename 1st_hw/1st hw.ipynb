{
 "cells": [
  {
   "cell_type": "code",
   "execution_count": 1,
   "metadata": {},
   "outputs": [],
   "source": [
    "import os\n",
    "import time\n",
    "import csv\n",
    "import glob\n",
    "import shutil\n",
    "import pandas as pd\n",
    "from selenium import webdriver\n",
    "from selenium.common.exceptions import NoSuchElementException\n",
    "from selenium.webdriver.common.keys import Keys"
   ]
  },
  {
   "cell_type": "code",
   "execution_count": 2,
   "metadata": {},
   "outputs": [],
   "source": [
    "path = 'https://www.ptt.cc/bbs/Beauty/index.html'\n",
    "browser = webdriver.Chrome('./chromedriver')\n",
    "browser.get(path)"
   ]
  },
  {
   "cell_type": "code",
   "execution_count": 3,
   "metadata": {},
   "outputs": [],
   "source": [
    "def get_link(main):\n",
    "    links_list = []\n",
    "    links = main.find_elements_by_class_name('title')\n",
    "    for i in range(len(links)):\n",
    "        try:\n",
    "            links_list.append((links[i].text,links[i].find_element_by_css_selector('a').get_attribute('href')))\n",
    "        except NoSuchElementException:\n",
    "            links_list.append((links[i].text,'No such Link'))\n",
    "    return links_list"
   ]
  },
  {
   "cell_type": "code",
   "execution_count": 4,
   "metadata": {},
   "outputs": [
    {
     "data": {
      "text/plain": [
       "[('[正妹] 可口可樂真的不好', 'https://www.ptt.cc/bbs/Beauty/M.1583218789.A.DDE.html'),\n",
       " ('[正妹] 鼻子上有痣', 'https://www.ptt.cc/bbs/Beauty/M.1583215371.A.CB8.html'),\n",
       " ('[正妹] 老闆娘', 'https://www.ptt.cc/bbs/Beauty/M.1583212482.A.A01.html'),\n",
       " ('[正妹] 上坂すみれ 豬', 'https://www.ptt.cc/bbs/Beauty/M.1583211205.A.293.html'),\n",
       " ('[正妹] 多元', 'https://www.ptt.cc/bbs/Beauty/M.1583176752.A.5D5.html'),\n",
       " ('[正妹] 美到讓人忘記呼吸', 'https://www.ptt.cc/bbs/Beauty/M.1583164820.A.9D2.html'),\n",
       " ('[正妹] 大女孩(10)', 'https://www.ptt.cc/bbs/Beauty/M.1583164144.A.607.html'),\n",
       " ('[正妹] 校園霸凌', 'https://www.ptt.cc/bbs/Beauty/M.1583153561.A.8DC.html'),\n",
       " ('[正妹] 網...美...2', 'https://www.ptt.cc/bbs/Beauty/M.1583153168.A.C71.html'),\n",
       " ('[正妹] 宋寧', 'https://www.ptt.cc/bbs/Beauty/M.1583149402.A.49E.html'),\n",
       " ('[正妹] 清秀知性的眼鏡鄰家女孩', 'https://www.ptt.cc/bbs/Beauty/M.1583148499.A.108.html'),\n",
       " ('[正妹] AV 清涼圖', 'https://www.ptt.cc/bbs/Beauty/M.1583138055.A.484.html'),\n",
       " ('[正妹] 鄰家女孩', 'https://www.ptt.cc/bbs/Beauty/M.1583137917.A.7BE.html'),\n",
       " ('[正妹] 為啥直線會看成曲的', 'https://www.ptt.cc/bbs/Beauty/M.1583133615.A.16E.html'),\n",
       " ('[正妹] 逢田梨香子', 'https://www.ptt.cc/bbs/Beauty/M.1583105197.A.88F.html'),\n",
       " ('[正妹] 護理師', 'https://www.ptt.cc/bbs/Beauty/M.1583097351.A.E93.html'),\n",
       " ('[正妹] iuui', 'https://www.ptt.cc/bbs/Beauty/M.1583082887.A.0DF.html'),\n",
       " ('[正妹] 收假ㄧ張', 'https://www.ptt.cc/bbs/Beauty/M.1583079874.A.E9D.html'),\n",
       " ('[正妹] 大女孩(9)', 'https://www.ptt.cc/bbs/Beauty/M.1583074601.A.646.html'),\n",
       " ('[正妹] 來自台中', 'https://www.ptt.cc/bbs/Beauty/M.1583068942.A.E25.html')]"
      ]
     },
     "execution_count": 4,
     "metadata": {},
     "output_type": "execute_result"
    }
   ],
   "source": [
    "key_in = browser.find_element_by_name('q')\n",
    "key_in.send_keys('正妹')\n",
    "key_in.submit()\n",
    "links = get_link(browser)\n",
    "links"
   ]
  },
  {
   "cell_type": "code",
   "execution_count": 5,
   "metadata": {},
   "outputs": [
    {
     "name": "stderr",
     "output_type": "stream",
     "text": [
      "/Users/harry02261112/anaconda3/lib/python3.6/site-packages/ipykernel_launcher.py:6: DeprecationWarning: use driver.switch_to.window instead\n",
      "  \n"
     ]
    }
   ],
   "source": [
    "for i in range(len(links)-1):\n",
    "    \n",
    "    links_windows = links[i][1]\n",
    "    opl = 'window.open(\"'+links_windows+'\");'\n",
    "    browser.execute_script(opl)\n",
    "    browser.switch_to_window(browser.window_handles[i+1])\n",
    "    \n",
    "    \n",
    "    base_data = browser.find_elements_by_class_name('article-meta-value')\n",
    "    author = base_data[0].text\n",
    "    title = base_data[2].text\n",
    "    post_time = base_data[3].text\n",
    "    hrefs = browser.find_elements_by_css_selector('a')\n",
    "    \n",
    "    \n",
    "    images = []\n",
    "    for j in range(len(hrefs)):\n",
    "        if hrefs[j].text[-4:] =='.jpg':\n",
    "            images.append(hrefs[j].text.replace('://i.','://'))\n",
    "            \n",
    "            \n",
    "    root_path = os.getcwd()\n",
    "    save_path = 'Beauty/'\n",
    "    mix_path = os.path.join(root_path,save_path)\n",
    "    if not os.path.isdir(mix_path):\n",
    "        os.mkdir(mix_path)\n",
    "    \n",
    "    new_page = webdriver.Chrome('./chromedriver')\n",
    "    for k in range(len(images)):\n",
    "        images_link = images[k]\n",
    "        new_page.get(images_link)\n",
    "        photo = new_page.find_element_by_css_selector('img')\n",
    "        photo.screenshot(os.path.join(mix_path,str(k)+'.png'))\n",
    "    new_page.quit()\n",
    "    \n",
    "    \n",
    "    folder_name = os.path.join(mix_path,title+post_time)\n",
    "    if not os.path.isdir(folder_name):\n",
    "        os.mkdir(folder_name)\n",
    "    for data in glob.glob(mix_path+'*[jpg]'):\n",
    "        shutil.move(data,folder_name)"
   ]
  },
  {
   "cell_type": "code",
   "execution_count": null,
   "metadata": {},
   "outputs": [],
   "source": []
  }
 ],
 "metadata": {
  "kernelspec": {
   "display_name": "Python 3",
   "language": "python",
   "name": "python3"
  },
  "language_info": {
   "codemirror_mode": {
    "name": "ipython",
    "version": 3
   },
   "file_extension": ".py",
   "mimetype": "text/x-python",
   "name": "python",
   "nbconvert_exporter": "python",
   "pygments_lexer": "ipython3",
   "version": "3.6.8"
  }
 },
 "nbformat": 4,
 "nbformat_minor": 2
}
