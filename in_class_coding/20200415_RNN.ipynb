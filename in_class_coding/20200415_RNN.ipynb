{
 "cells": [
  {
   "cell_type": "code",
   "execution_count": 1,
   "metadata": {},
   "outputs": [],
   "source": [
    "%matplotlib inline \n",
    "import numpy as np \n",
    "import matplotlib.pyplot as plt \n",
    "import pandas as pd"
   ]
  },
  {
   "cell_type": "code",
   "execution_count": 2,
   "metadata": {},
   "outputs": [],
   "source": [
    "from tensorflow.keras.preprocessing import sequence \n",
    "from tensorflow.keras.models import Sequential\n",
    "from tensorflow.keras.layers import Dense, Embedding\n",
    "from tensorflow.keras.layers import LSTM\n",
    "from tensorflow.keras.datasets import imdb"
   ]
  },
  {
   "cell_type": "code",
   "execution_count": 3,
   "metadata": {},
   "outputs": [],
   "source": [
    "(x_train,y_train), (x_test, y_test) = imdb.load_data(num_words=10000)"
   ]
  },
  {
   "cell_type": "code",
   "execution_count": 4,
   "metadata": {},
   "outputs": [],
   "source": [
    "x_train = sequence.pad_sequences(x_train, maxlen = 100)\n",
    "x_test = sequence.pad_sequences(x_test, maxlen = 100)"
   ]
  },
  {
   "cell_type": "code",
   "execution_count": 5,
   "metadata": {},
   "outputs": [],
   "source": [
    "model = Sequential()"
   ]
  },
  {
   "cell_type": "code",
   "execution_count": 6,
   "metadata": {},
   "outputs": [],
   "source": [
    "model.add(Embedding(10000, 128))"
   ]
  },
  {
   "cell_type": "code",
   "execution_count": 7,
   "metadata": {},
   "outputs": [],
   "source": [
    "model.add(LSTM(128, dropout = 0.2))"
   ]
  },
  {
   "cell_type": "code",
   "execution_count": 8,
   "metadata": {},
   "outputs": [],
   "source": [
    "model.add(Dense(1, activation = \"sigmoid\"))"
   ]
  },
  {
   "cell_type": "code",
   "execution_count": 10,
   "metadata": {},
   "outputs": [],
   "source": [
    "model.compile(loss=\"binary_crossentropy\", \n",
    "             optimizer = \"adam\",\n",
    "             metrics = [\"accuracy\"])"
   ]
  },
  {
   "cell_type": "code",
   "execution_count": 11,
   "metadata": {},
   "outputs": [
    {
     "name": "stdout",
     "output_type": "stream",
     "text": [
      "Model: \"sequential\"\n",
      "_________________________________________________________________\n",
      "Layer (type)                 Output Shape              Param #   \n",
      "=================================================================\n",
      "embedding (Embedding)        (None, None, 128)         1280000   \n",
      "_________________________________________________________________\n",
      "lstm (LSTM)                  (None, 128)               131584    \n",
      "_________________________________________________________________\n",
      "dense (Dense)                (None, 1)                 129       \n",
      "=================================================================\n",
      "Total params: 1,411,713\n",
      "Trainable params: 1,411,713\n",
      "Non-trainable params: 0\n",
      "_________________________________________________________________\n"
     ]
    }
   ],
   "source": [
    "model.summary()"
   ]
  },
  {
   "cell_type": "code",
   "execution_count": 12,
   "metadata": {},
   "outputs": [
    {
     "data": {
      "text/plain": [
       "131584"
      ]
     },
     "execution_count": 12,
     "metadata": {},
     "output_type": "execute_result"
    }
   ],
   "source": [
    "(128+128+1)*4*128"
   ]
  },
  {
   "cell_type": "code",
   "execution_count": 13,
   "metadata": {},
   "outputs": [
    {
     "name": "stdout",
     "output_type": "stream",
     "text": [
      "Train on 25000 samples, validate on 25000 samples\n",
      "Epoch 1/10\n",
      "25000/25000 [==============================] - 313s 13ms/sample - loss: 0.4354 - accuracy: 0.7930 - val_loss: 0.3724 - val_accuracy: 0.8398\n",
      "Epoch 2/10\n",
      "25000/25000 [==============================] - 343s 14ms/sample - loss: 0.2710 - accuracy: 0.8898 - val_loss: 0.4182 - val_accuracy: 0.8367\n",
      "Epoch 3/10\n",
      "25000/25000 [==============================] - 348s 14ms/sample - loss: 0.1974 - accuracy: 0.9236 - val_loss: 0.4216 - val_accuracy: 0.8425\n",
      "Epoch 4/10\n",
      "25000/25000 [==============================] - 302s 12ms/sample - loss: 0.1447 - accuracy: 0.9461 - val_loss: 0.4773 - val_accuracy: 0.8350\n",
      "Epoch 5/10\n",
      "25000/25000 [==============================] - 316s 13ms/sample - loss: 0.1050 - accuracy: 0.9617 - val_loss: 0.4820 - val_accuracy: 0.8339\n",
      "Epoch 6/10\n",
      "25000/25000 [==============================] - 360s 14ms/sample - loss: 0.0785 - accuracy: 0.9723 - val_loss: 0.5772 - val_accuracy: 0.8313\n",
      "Epoch 7/10\n",
      "25000/25000 [==============================] - 344s 14ms/sample - loss: 0.0561 - accuracy: 0.9810 - val_loss: 0.5674 - val_accuracy: 0.8263\n",
      "Epoch 8/10\n",
      "25000/25000 [==============================] - 348s 14ms/sample - loss: 0.0483 - accuracy: 0.9843 - val_loss: 0.7404 - val_accuracy: 0.8314\n",
      "Epoch 9/10\n",
      "25000/25000 [==============================] - 340s 14ms/sample - loss: 0.0416 - accuracy: 0.9860 - val_loss: 0.7301 - val_accuracy: 0.8330\n",
      "Epoch 10/10\n",
      "25000/25000 [==============================] - 334s 13ms/sample - loss: 0.0298 - accuracy: 0.9911 - val_loss: 0.7775 - val_accuracy: 0.8334\n"
     ]
    },
    {
     "data": {
      "text/plain": [
       "<tensorflow.python.keras.callbacks.History at 0x64169a2d0>"
      ]
     },
     "execution_count": 13,
     "metadata": {},
     "output_type": "execute_result"
    }
   ],
   "source": [
    "model.fit(x_train, y_train, batch_size = 32, epochs = 10, validation_data=(x_test,y_test))"
   ]
  },
  {
   "cell_type": "code",
   "execution_count": null,
   "metadata": {},
   "outputs": [],
   "source": [
    "model_json = model.to_json()\n",
    "open(\"imdb_model_architecture.json\", 'w').write(model_json)\n",
    "model.save_weights('imdb_model_weights.h5')"
   ]
  }
 ],
 "metadata": {
  "kernelspec": {
   "display_name": "Python 3",
   "language": "python",
   "name": "python3"
  },
  "language_info": {
   "codemirror_mode": {
    "name": "ipython",
    "version": 3
   },
   "file_extension": ".py",
   "mimetype": "text/x-python",
   "name": "python",
   "nbconvert_exporter": "python",
   "pygments_lexer": "ipython3",
   "version": "3.7.6"
  }
 },
 "nbformat": 4,
 "nbformat_minor": 4
}
