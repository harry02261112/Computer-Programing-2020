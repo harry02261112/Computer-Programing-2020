{
 "cells": [
  {
   "cell_type": "code",
   "execution_count": 1,
   "metadata": {},
   "outputs": [],
   "source": [
    "%matplotlib inline \n",
    "import numpy as np \n",
    "import matplotlib.pyplot as plt \n",
    "import pandas as pd"
   ]
  },
  {
   "cell_type": "code",
   "execution_count": 2,
   "metadata": {},
   "outputs": [],
   "source": [
    "from tensorflow.keras.preprocessing import sequence \n",
    "from tensorflow.keras.models import Sequential\n",
    "from tensorflow.keras.layers import Dense, Embedding\n",
    "from tensorflow.keras.layers import LSTM\n",
    "from tensorflow.keras.datasets import imdb"
   ]
  },
  {
   "cell_type": "markdown",
   "metadata": {},
   "source": [
    "常用字數量增加為 20000"
   ]
  },
  {
   "cell_type": "code",
   "execution_count": 5,
   "metadata": {},
   "outputs": [],
   "source": [
    "(x_train,y_train), (x_test, y_test) = imdb.load_data(num_words=20000)"
   ]
  },
  {
   "cell_type": "code",
   "execution_count": 6,
   "metadata": {},
   "outputs": [],
   "source": [
    "x_train = sequence.pad_sequences(x_train, maxlen = 100)\n",
    "x_test = sequence.pad_sequences(x_test, maxlen = 100)"
   ]
  },
  {
   "cell_type": "code",
   "execution_count": 10,
   "metadata": {},
   "outputs": [],
   "source": [
    "model = Sequential()\n",
    "model.add(Embedding(20000, 128))\n",
    "model.add(LSTM(128, dropout = 0.2))\n",
    "model.add(Dense(1, activation = \"sigmoid\"))\n",
    "model.compile(loss=\"binary_crossentropy\", \n",
    "             optimizer = \"adam\",\n",
    "             metrics = [\"accuracy\"])"
   ]
  },
  {
   "cell_type": "code",
   "execution_count": 11,
   "metadata": {},
   "outputs": [
    {
     "name": "stdout",
     "output_type": "stream",
     "text": [
      "Model: \"sequential_1\"\n",
      "_________________________________________________________________\n",
      "Layer (type)                 Output Shape              Param #   \n",
      "=================================================================\n",
      "embedding_1 (Embedding)      (None, None, 128)         2560000   \n",
      "_________________________________________________________________\n",
      "lstm_1 (LSTM)                (None, 128)               131584    \n",
      "_________________________________________________________________\n",
      "dense_1 (Dense)              (None, 1)                 129       \n",
      "=================================================================\n",
      "Total params: 2,691,713\n",
      "Trainable params: 2,691,713\n",
      "Non-trainable params: 0\n",
      "_________________________________________________________________\n"
     ]
    }
   ],
   "source": [
    "model.summary()"
   ]
  },
  {
   "cell_type": "markdown",
   "metadata": {},
   "source": [
    "Batch_size 增加為 64, Epochs 增加為 20"
   ]
  },
  {
   "cell_type": "code",
   "execution_count": 12,
   "metadata": {},
   "outputs": [
    {
     "name": "stdout",
     "output_type": "stream",
     "text": [
      "Train on 25000 samples, validate on 25000 samples\n",
      "Epoch 1/20\n",
      "25000/25000 [==============================] - 210s 8ms/sample - loss: 0.4264 - accuracy: 0.7972 - val_loss: 0.3855 - val_accuracy: 0.8343\n",
      "Epoch 2/20\n",
      "25000/25000 [==============================] - 222s 9ms/sample - loss: 0.2419 - accuracy: 0.9056 - val_loss: 0.3703 - val_accuracy: 0.8452\n",
      "Epoch 3/20\n",
      "25000/25000 [==============================] - 230s 9ms/sample - loss: 0.1566 - accuracy: 0.9424 - val_loss: 0.3963 - val_accuracy: 0.8382\n",
      "Epoch 4/20\n",
      "25000/25000 [==============================] - 238s 10ms/sample - loss: 0.1045 - accuracy: 0.9638 - val_loss: 0.5020 - val_accuracy: 0.8364\n",
      "Epoch 5/20\n",
      "25000/25000 [==============================] - 238s 10ms/sample - loss: 0.0740 - accuracy: 0.9759 - val_loss: 0.7039 - val_accuracy: 0.8297\n",
      "Epoch 6/20\n",
      "25000/25000 [==============================] - 237s 9ms/sample - loss: 0.0594 - accuracy: 0.9796 - val_loss: 0.6806 - val_accuracy: 0.8251\n",
      "Epoch 7/20\n",
      "25000/25000 [==============================] - 239s 10ms/sample - loss: 0.0467 - accuracy: 0.9851 - val_loss: 0.5654 - val_accuracy: 0.8237\n",
      "Epoch 8/20\n",
      "25000/25000 [==============================] - 241s 10ms/sample - loss: 0.0366 - accuracy: 0.9889 - val_loss: 0.6779 - val_accuracy: 0.8243\n",
      "Epoch 9/20\n",
      "25000/25000 [==============================] - 236s 9ms/sample - loss: 0.0230 - accuracy: 0.9928 - val_loss: 0.7546 - val_accuracy: 0.8275\n",
      "Epoch 10/20\n",
      "25000/25000 [==============================] - 230s 9ms/sample - loss: 0.0224 - accuracy: 0.9933 - val_loss: 0.7971 - val_accuracy: 0.8208\n",
      "Epoch 11/20\n",
      "25000/25000 [==============================] - 225s 9ms/sample - loss: 0.0220 - accuracy: 0.9933 - val_loss: 0.9779 - val_accuracy: 0.8204\n",
      "Epoch 12/20\n",
      "25000/25000 [==============================] - 226s 9ms/sample - loss: 0.0136 - accuracy: 0.9958 - val_loss: 0.9161 - val_accuracy: 0.8224\n",
      "Epoch 13/20\n",
      "25000/25000 [==============================] - 226s 9ms/sample - loss: 0.0239 - accuracy: 0.9924 - val_loss: 0.8771 - val_accuracy: 0.8242\n",
      "Epoch 14/20\n",
      "25000/25000 [==============================] - 227s 9ms/sample - loss: 0.0212 - accuracy: 0.9928 - val_loss: 0.8390 - val_accuracy: 0.8144\n",
      "Epoch 15/20\n",
      "25000/25000 [==============================] - 229s 9ms/sample - loss: 0.0100 - accuracy: 0.9968 - val_loss: 1.0970 - val_accuracy: 0.8216\n",
      "Epoch 16/20\n",
      "25000/25000 [==============================] - 229s 9ms/sample - loss: 0.0076 - accuracy: 0.9978 - val_loss: 1.0226 - val_accuracy: 0.8226\n",
      "Epoch 17/20\n",
      "25000/25000 [==============================] - 229s 9ms/sample - loss: 0.0125 - accuracy: 0.9964 - val_loss: 0.9825 - val_accuracy: 0.8255\n",
      "Epoch 18/20\n",
      "25000/25000 [==============================] - 230s 9ms/sample - loss: 0.0069 - accuracy: 0.9981 - val_loss: 0.9807 - val_accuracy: 0.8258\n",
      "Epoch 19/20\n",
      "25000/25000 [==============================] - 230s 9ms/sample - loss: 0.0051 - accuracy: 0.9986 - val_loss: 1.1146 - val_accuracy: 0.8212\n",
      "Epoch 20/20\n",
      "25000/25000 [==============================] - 232s 9ms/sample - loss: 0.0070 - accuracy: 0.9980 - val_loss: 1.1777 - val_accuracy: 0.8266\n"
     ]
    },
    {
     "data": {
      "text/plain": [
       "<tensorflow.python.keras.callbacks.History at 0x650629710>"
      ]
     },
     "execution_count": 12,
     "metadata": {},
     "output_type": "execute_result"
    }
   ],
   "source": [
    "model.fit(x_train, y_train, batch_size = 64, epochs = 20, validation_data=(x_test,y_test))"
   ]
  },
  {
   "cell_type": "code",
   "execution_count": null,
   "metadata": {},
   "outputs": [],
   "source": []
  }
 ],
 "metadata": {
  "kernelspec": {
   "display_name": "Python 3",
   "language": "python",
   "name": "python3"
  },
  "language_info": {
   "codemirror_mode": {
    "name": "ipython",
    "version": 3
   },
   "file_extension": ".py",
   "mimetype": "text/x-python",
   "name": "python",
   "nbconvert_exporter": "python",
   "pygments_lexer": "ipython3",
   "version": "3.7.6"
  }
 },
 "nbformat": 4,
 "nbformat_minor": 4
}
